{
 "cells": [
  {
   "cell_type": "code",
   "execution_count": 1,
   "id": "3bbc619b",
   "metadata": {},
   "outputs": [],
   "source": [
    "import pandas as pd\n",
    "import seaborn as sns\n",
    "import matplotlib.pyplot as plt\n",
    "import numpy as np"
   ]
  },
  {
   "cell_type": "code",
   "execution_count": 2,
   "id": "06304214",
   "metadata": {},
   "outputs": [
    {
     "data": {
      "text/html": [
       "<div>\n",
       "<style scoped>\n",
       "    .dataframe tbody tr th:only-of-type {\n",
       "        vertical-align: middle;\n",
       "    }\n",
       "\n",
       "    .dataframe tbody tr th {\n",
       "        vertical-align: top;\n",
       "    }\n",
       "\n",
       "    .dataframe thead th {\n",
       "        text-align: right;\n",
       "    }\n",
       "</style>\n",
       "<table border=\"1\" class=\"dataframe\">\n",
       "  <thead>\n",
       "    <tr style=\"text-align: right;\">\n",
       "      <th></th>\n",
       "      <th>Entity</th>\n",
       "      <th>Year</th>\n",
       "      <th>Life expectancy</th>\n",
       "    </tr>\n",
       "  </thead>\n",
       "  <tbody>\n",
       "    <tr>\n",
       "      <th>0</th>\n",
       "      <td>Australia</td>\n",
       "      <td>1802</td>\n",
       "      <td>34.049999</td>\n",
       "    </tr>\n",
       "    <tr>\n",
       "      <th>1</th>\n",
       "      <td>Australia</td>\n",
       "      <td>1803</td>\n",
       "      <td>34.049999</td>\n",
       "    </tr>\n",
       "    <tr>\n",
       "      <th>2</th>\n",
       "      <td>Australia</td>\n",
       "      <td>1804</td>\n",
       "      <td>34.049999</td>\n",
       "    </tr>\n",
       "    <tr>\n",
       "      <th>3</th>\n",
       "      <td>Australia</td>\n",
       "      <td>1805</td>\n",
       "      <td>34.049999</td>\n",
       "    </tr>\n",
       "    <tr>\n",
       "      <th>4</th>\n",
       "      <td>Australia</td>\n",
       "      <td>1806</td>\n",
       "      <td>34.049999</td>\n",
       "    </tr>\n",
       "  </tbody>\n",
       "</table>\n",
       "</div>"
      ],
      "text/plain": [
       "      Entity  Year  Life expectancy\n",
       "0  Australia  1802        34.049999\n",
       "1  Australia  1803        34.049999\n",
       "2  Australia  1804        34.049999\n",
       "3  Australia  1805        34.049999\n",
       "4  Australia  1806        34.049999"
      ]
     },
     "execution_count": 2,
     "metadata": {},
     "output_type": "execute_result"
    }
   ],
   "source": [
    "life = pd.read_csv('Life expectancy.csv')\n",
    "life.head()"
   ]
  },
  {
   "cell_type": "markdown",
   "id": "6020c1bb",
   "metadata": {},
   "source": [
    "# 1. Rename column 'Entity' to 'Country'"
   ]
  },
  {
   "cell_type": "code",
   "execution_count": 3,
   "id": "a3a42576",
   "metadata": {},
   "outputs": [
    {
     "data": {
      "text/html": [
       "<div>\n",
       "<style scoped>\n",
       "    .dataframe tbody tr th:only-of-type {\n",
       "        vertical-align: middle;\n",
       "    }\n",
       "\n",
       "    .dataframe tbody tr th {\n",
       "        vertical-align: top;\n",
       "    }\n",
       "\n",
       "    .dataframe thead th {\n",
       "        text-align: right;\n",
       "    }\n",
       "</style>\n",
       "<table border=\"1\" class=\"dataframe\">\n",
       "  <thead>\n",
       "    <tr style=\"text-align: right;\">\n",
       "      <th></th>\n",
       "      <th>Country</th>\n",
       "      <th>Year</th>\n",
       "      <th>Life expectancy</th>\n",
       "    </tr>\n",
       "  </thead>\n",
       "  <tbody>\n",
       "    <tr>\n",
       "      <th>0</th>\n",
       "      <td>Australia</td>\n",
       "      <td>1802</td>\n",
       "      <td>34.049999</td>\n",
       "    </tr>\n",
       "    <tr>\n",
       "      <th>1</th>\n",
       "      <td>Australia</td>\n",
       "      <td>1803</td>\n",
       "      <td>34.049999</td>\n",
       "    </tr>\n",
       "    <tr>\n",
       "      <th>2</th>\n",
       "      <td>Australia</td>\n",
       "      <td>1804</td>\n",
       "      <td>34.049999</td>\n",
       "    </tr>\n",
       "    <tr>\n",
       "      <th>3</th>\n",
       "      <td>Australia</td>\n",
       "      <td>1805</td>\n",
       "      <td>34.049999</td>\n",
       "    </tr>\n",
       "    <tr>\n",
       "      <th>4</th>\n",
       "      <td>Australia</td>\n",
       "      <td>1806</td>\n",
       "      <td>34.049999</td>\n",
       "    </tr>\n",
       "    <tr>\n",
       "      <th>...</th>\n",
       "      <td>...</td>\n",
       "      <td>...</td>\n",
       "      <td>...</td>\n",
       "    </tr>\n",
       "    <tr>\n",
       "      <th>3248</th>\n",
       "      <td>United States</td>\n",
       "      <td>2012</td>\n",
       "      <td>78.940002</td>\n",
       "    </tr>\n",
       "    <tr>\n",
       "      <th>3249</th>\n",
       "      <td>United States</td>\n",
       "      <td>2013</td>\n",
       "      <td>78.959999</td>\n",
       "    </tr>\n",
       "    <tr>\n",
       "      <th>3250</th>\n",
       "      <td>United States</td>\n",
       "      <td>2014</td>\n",
       "      <td>78.940002</td>\n",
       "    </tr>\n",
       "    <tr>\n",
       "      <th>3251</th>\n",
       "      <td>United States</td>\n",
       "      <td>2015</td>\n",
       "      <td>78.870003</td>\n",
       "    </tr>\n",
       "    <tr>\n",
       "      <th>3252</th>\n",
       "      <td>United States</td>\n",
       "      <td>2016</td>\n",
       "      <td>78.860001</td>\n",
       "    </tr>\n",
       "  </tbody>\n",
       "</table>\n",
       "<p>3253 rows × 3 columns</p>\n",
       "</div>"
      ],
      "text/plain": [
       "            Country  Year  Life expectancy\n",
       "0         Australia  1802        34.049999\n",
       "1         Australia  1803        34.049999\n",
       "2         Australia  1804        34.049999\n",
       "3         Australia  1805        34.049999\n",
       "4         Australia  1806        34.049999\n",
       "...             ...   ...              ...\n",
       "3248  United States  2012        78.940002\n",
       "3249  United States  2013        78.959999\n",
       "3250  United States  2014        78.940002\n",
       "3251  United States  2015        78.870003\n",
       "3252  United States  2016        78.860001\n",
       "\n",
       "[3253 rows x 3 columns]"
      ]
     },
     "execution_count": 3,
     "metadata": {},
     "output_type": "execute_result"
    }
   ],
   "source": [
    "life.rename({'Entity' : 'Country'}, axis=1, inplace=True)\n",
    "life"
   ]
  },
  {
   "cell_type": "markdown",
   "id": "3c140149",
   "metadata": {},
   "source": [
    "# 2.Print first 10 rows"
   ]
  },
  {
   "cell_type": "code",
   "execution_count": 4,
   "id": "c47f1aae",
   "metadata": {},
   "outputs": [
    {
     "data": {
      "text/html": [
       "<div>\n",
       "<style scoped>\n",
       "    .dataframe tbody tr th:only-of-type {\n",
       "        vertical-align: middle;\n",
       "    }\n",
       "\n",
       "    .dataframe tbody tr th {\n",
       "        vertical-align: top;\n",
       "    }\n",
       "\n",
       "    .dataframe thead th {\n",
       "        text-align: right;\n",
       "    }\n",
       "</style>\n",
       "<table border=\"1\" class=\"dataframe\">\n",
       "  <thead>\n",
       "    <tr style=\"text-align: right;\">\n",
       "      <th></th>\n",
       "      <th>Country</th>\n",
       "      <th>Year</th>\n",
       "      <th>Life expectancy</th>\n",
       "    </tr>\n",
       "  </thead>\n",
       "  <tbody>\n",
       "    <tr>\n",
       "      <th>0</th>\n",
       "      <td>Australia</td>\n",
       "      <td>1802</td>\n",
       "      <td>34.049999</td>\n",
       "    </tr>\n",
       "    <tr>\n",
       "      <th>1</th>\n",
       "      <td>Australia</td>\n",
       "      <td>1803</td>\n",
       "      <td>34.049999</td>\n",
       "    </tr>\n",
       "    <tr>\n",
       "      <th>2</th>\n",
       "      <td>Australia</td>\n",
       "      <td>1804</td>\n",
       "      <td>34.049999</td>\n",
       "    </tr>\n",
       "    <tr>\n",
       "      <th>3</th>\n",
       "      <td>Australia</td>\n",
       "      <td>1805</td>\n",
       "      <td>34.049999</td>\n",
       "    </tr>\n",
       "    <tr>\n",
       "      <th>4</th>\n",
       "      <td>Australia</td>\n",
       "      <td>1806</td>\n",
       "      <td>34.049999</td>\n",
       "    </tr>\n",
       "    <tr>\n",
       "      <th>5</th>\n",
       "      <td>Australia</td>\n",
       "      <td>1807</td>\n",
       "      <td>34.049999</td>\n",
       "    </tr>\n",
       "    <tr>\n",
       "      <th>6</th>\n",
       "      <td>Australia</td>\n",
       "      <td>1808</td>\n",
       "      <td>34.049999</td>\n",
       "    </tr>\n",
       "    <tr>\n",
       "      <th>7</th>\n",
       "      <td>Australia</td>\n",
       "      <td>1809</td>\n",
       "      <td>34.049999</td>\n",
       "    </tr>\n",
       "    <tr>\n",
       "      <th>8</th>\n",
       "      <td>Australia</td>\n",
       "      <td>1810</td>\n",
       "      <td>34.049999</td>\n",
       "    </tr>\n",
       "    <tr>\n",
       "      <th>9</th>\n",
       "      <td>Australia</td>\n",
       "      <td>1811</td>\n",
       "      <td>34.049999</td>\n",
       "    </tr>\n",
       "  </tbody>\n",
       "</table>\n",
       "</div>"
      ],
      "text/plain": [
       "     Country  Year  Life expectancy\n",
       "0  Australia  1802        34.049999\n",
       "1  Australia  1803        34.049999\n",
       "2  Australia  1804        34.049999\n",
       "3  Australia  1805        34.049999\n",
       "4  Australia  1806        34.049999\n",
       "5  Australia  1807        34.049999\n",
       "6  Australia  1808        34.049999\n",
       "7  Australia  1809        34.049999\n",
       "8  Australia  1810        34.049999\n",
       "9  Australia  1811        34.049999"
      ]
     },
     "execution_count": 4,
     "metadata": {},
     "output_type": "execute_result"
    }
   ],
   "source": [
    "life.head(10)"
   ]
  },
  {
   "cell_type": "markdown",
   "id": "f5aa76e5",
   "metadata": {},
   "source": [
    "# 3. Print bottom 10 rows"
   ]
  },
  {
   "cell_type": "code",
   "execution_count": 5,
   "id": "4c64e609",
   "metadata": {},
   "outputs": [
    {
     "data": {
      "text/html": [
       "<div>\n",
       "<style scoped>\n",
       "    .dataframe tbody tr th:only-of-type {\n",
       "        vertical-align: middle;\n",
       "    }\n",
       "\n",
       "    .dataframe tbody tr th {\n",
       "        vertical-align: top;\n",
       "    }\n",
       "\n",
       "    .dataframe thead th {\n",
       "        text-align: right;\n",
       "    }\n",
       "</style>\n",
       "<table border=\"1\" class=\"dataframe\">\n",
       "  <thead>\n",
       "    <tr style=\"text-align: right;\">\n",
       "      <th></th>\n",
       "      <th>Country</th>\n",
       "      <th>Year</th>\n",
       "      <th>Life expectancy</th>\n",
       "    </tr>\n",
       "  </thead>\n",
       "  <tbody>\n",
       "    <tr>\n",
       "      <th>3243</th>\n",
       "      <td>United States</td>\n",
       "      <td>2007</td>\n",
       "      <td>78.169998</td>\n",
       "    </tr>\n",
       "    <tr>\n",
       "      <th>3244</th>\n",
       "      <td>United States</td>\n",
       "      <td>2008</td>\n",
       "      <td>78.370003</td>\n",
       "    </tr>\n",
       "    <tr>\n",
       "      <th>3245</th>\n",
       "      <td>United States</td>\n",
       "      <td>2009</td>\n",
       "      <td>78.599998</td>\n",
       "    </tr>\n",
       "    <tr>\n",
       "      <th>3246</th>\n",
       "      <td>United States</td>\n",
       "      <td>2010</td>\n",
       "      <td>78.779999</td>\n",
       "    </tr>\n",
       "    <tr>\n",
       "      <th>3247</th>\n",
       "      <td>United States</td>\n",
       "      <td>2011</td>\n",
       "      <td>78.870003</td>\n",
       "    </tr>\n",
       "    <tr>\n",
       "      <th>3248</th>\n",
       "      <td>United States</td>\n",
       "      <td>2012</td>\n",
       "      <td>78.940002</td>\n",
       "    </tr>\n",
       "    <tr>\n",
       "      <th>3249</th>\n",
       "      <td>United States</td>\n",
       "      <td>2013</td>\n",
       "      <td>78.959999</td>\n",
       "    </tr>\n",
       "    <tr>\n",
       "      <th>3250</th>\n",
       "      <td>United States</td>\n",
       "      <td>2014</td>\n",
       "      <td>78.940002</td>\n",
       "    </tr>\n",
       "    <tr>\n",
       "      <th>3251</th>\n",
       "      <td>United States</td>\n",
       "      <td>2015</td>\n",
       "      <td>78.870003</td>\n",
       "    </tr>\n",
       "    <tr>\n",
       "      <th>3252</th>\n",
       "      <td>United States</td>\n",
       "      <td>2016</td>\n",
       "      <td>78.860001</td>\n",
       "    </tr>\n",
       "  </tbody>\n",
       "</table>\n",
       "</div>"
      ],
      "text/plain": [
       "            Country  Year  Life expectancy\n",
       "3243  United States  2007        78.169998\n",
       "3244  United States  2008        78.370003\n",
       "3245  United States  2009        78.599998\n",
       "3246  United States  2010        78.779999\n",
       "3247  United States  2011        78.870003\n",
       "3248  United States  2012        78.940002\n",
       "3249  United States  2013        78.959999\n",
       "3250  United States  2014        78.940002\n",
       "3251  United States  2015        78.870003\n",
       "3252  United States  2016        78.860001"
      ]
     },
     "execution_count": 5,
     "metadata": {},
     "output_type": "execute_result"
    }
   ],
   "source": [
    "life.tail(10)"
   ]
  },
  {
   "cell_type": "markdown",
   "id": "1ac60b60",
   "metadata": {},
   "source": [
    "# 4. Print shape of the dataset"
   ]
  },
  {
   "cell_type": "code",
   "execution_count": 6,
   "id": "a59b1b09",
   "metadata": {},
   "outputs": [
    {
     "name": "stdout",
     "output_type": "stream",
     "text": [
      "Number of rows is: 3253\n",
      "Number of columns is: 3\n"
     ]
    }
   ],
   "source": [
    "life.shape\n",
    "print('Number of rows is:', life.shape[0])\n",
    "print('Number of columns is:', life.shape[1])"
   ]
  },
  {
   "cell_type": "markdown",
   "id": "c86bc75c",
   "metadata": {},
   "source": [
    "# 5. Get detailed info about the dataset"
   ]
  },
  {
   "cell_type": "code",
   "execution_count": 7,
   "id": "dbd7687b",
   "metadata": {},
   "outputs": [
    {
     "name": "stdout",
     "output_type": "stream",
     "text": [
      "<class 'pandas.core.frame.DataFrame'>\n",
      "RangeIndex: 3253 entries, 0 to 3252\n",
      "Data columns (total 3 columns):\n",
      " #   Column           Non-Null Count  Dtype  \n",
      "---  ------           --------------  -----  \n",
      " 0   Country          3253 non-null   object \n",
      " 1   Year             3253 non-null   int64  \n",
      " 2   Life expectancy  3253 non-null   float64\n",
      "dtypes: float64(1), int64(1), object(1)\n",
      "memory usage: 76.4+ KB\n"
     ]
    }
   ],
   "source": [
    "life.info()"
   ]
  },
  {
   "cell_type": "markdown",
   "id": "4e2641a7",
   "metadata": {},
   "source": [
    "# 6. Display statistical info about the dataset"
   ]
  },
  {
   "cell_type": "code",
   "execution_count": 8,
   "id": "cdb05ab1",
   "metadata": {},
   "outputs": [
    {
     "data": {
      "text/html": [
       "<div>\n",
       "<style scoped>\n",
       "    .dataframe tbody tr th:only-of-type {\n",
       "        vertical-align: middle;\n",
       "    }\n",
       "\n",
       "    .dataframe tbody tr th {\n",
       "        vertical-align: top;\n",
       "    }\n",
       "\n",
       "    .dataframe thead th {\n",
       "        text-align: right;\n",
       "    }\n",
       "</style>\n",
       "<table border=\"1\" class=\"dataframe\">\n",
       "  <thead>\n",
       "    <tr style=\"text-align: right;\">\n",
       "      <th></th>\n",
       "      <th>Year</th>\n",
       "      <th>Life expectancy</th>\n",
       "    </tr>\n",
       "  </thead>\n",
       "  <tbody>\n",
       "    <tr>\n",
       "      <th>count</th>\n",
       "      <td>3253.000000</td>\n",
       "      <td>3253.000000</td>\n",
       "    </tr>\n",
       "    <tr>\n",
       "      <th>mean</th>\n",
       "      <td>1908.066093</td>\n",
       "      <td>48.680380</td>\n",
       "    </tr>\n",
       "    <tr>\n",
       "      <th>std</th>\n",
       "      <td>62.613962</td>\n",
       "      <td>17.965669</td>\n",
       "    </tr>\n",
       "    <tr>\n",
       "      <th>min</th>\n",
       "      <td>1800.000000</td>\n",
       "      <td>8.108836</td>\n",
       "    </tr>\n",
       "    <tr>\n",
       "      <th>25%</th>\n",
       "      <td>1854.000000</td>\n",
       "      <td>32.000000</td>\n",
       "    </tr>\n",
       "    <tr>\n",
       "      <th>50%</th>\n",
       "      <td>1908.000000</td>\n",
       "      <td>41.880001</td>\n",
       "    </tr>\n",
       "    <tr>\n",
       "      <th>75%</th>\n",
       "      <td>1962.000000</td>\n",
       "      <td>66.820000</td>\n",
       "    </tr>\n",
       "    <tr>\n",
       "      <th>max</th>\n",
       "      <td>2016.000000</td>\n",
       "      <td>83.940002</td>\n",
       "    </tr>\n",
       "  </tbody>\n",
       "</table>\n",
       "</div>"
      ],
      "text/plain": [
       "              Year  Life expectancy\n",
       "count  3253.000000      3253.000000\n",
       "mean   1908.066093        48.680380\n",
       "std      62.613962        17.965669\n",
       "min    1800.000000         8.108836\n",
       "25%    1854.000000        32.000000\n",
       "50%    1908.000000        41.880001\n",
       "75%    1962.000000        66.820000\n",
       "max    2016.000000        83.940002"
      ]
     },
     "execution_count": 8,
     "metadata": {},
     "output_type": "execute_result"
    }
   ],
   "source": [
    "life.describe()"
   ]
  },
  {
   "cell_type": "markdown",
   "id": "7ecd3e16",
   "metadata": {},
   "source": [
    "# 7. Fetch random samples from the dataset (50%)\n"
   ]
  },
  {
   "cell_type": "code",
   "execution_count": 9,
   "id": "01f75cfb",
   "metadata": {},
   "outputs": [
    {
     "data": {
      "text/html": [
       "<div>\n",
       "<style scoped>\n",
       "    .dataframe tbody tr th:only-of-type {\n",
       "        vertical-align: middle;\n",
       "    }\n",
       "\n",
       "    .dataframe tbody tr th {\n",
       "        vertical-align: top;\n",
       "    }\n",
       "\n",
       "    .dataframe thead th {\n",
       "        text-align: right;\n",
       "    }\n",
       "</style>\n",
       "<table border=\"1\" class=\"dataframe\">\n",
       "  <thead>\n",
       "    <tr style=\"text-align: right;\">\n",
       "      <th></th>\n",
       "      <th>Country</th>\n",
       "      <th>Year</th>\n",
       "      <th>Life expectancy</th>\n",
       "    </tr>\n",
       "  </thead>\n",
       "  <tbody>\n",
       "    <tr>\n",
       "      <th>1216</th>\n",
       "      <td>Germany</td>\n",
       "      <td>1933</td>\n",
       "      <td>60.683998</td>\n",
       "    </tr>\n",
       "    <tr>\n",
       "      <th>2175</th>\n",
       "      <td>Russia</td>\n",
       "      <td>1807</td>\n",
       "      <td>29.573458</td>\n",
       "    </tr>\n",
       "    <tr>\n",
       "      <th>754</th>\n",
       "      <td>China</td>\n",
       "      <td>1905</td>\n",
       "      <td>32.000000</td>\n",
       "    </tr>\n",
       "    <tr>\n",
       "      <th>1986</th>\n",
       "      <td>Mexico</td>\n",
       "      <td>1835</td>\n",
       "      <td>26.900000</td>\n",
       "    </tr>\n",
       "    <tr>\n",
       "      <th>455</th>\n",
       "      <td>Canada</td>\n",
       "      <td>1823</td>\n",
       "      <td>39.034428</td>\n",
       "    </tr>\n",
       "    <tr>\n",
       "      <th>...</th>\n",
       "      <td>...</td>\n",
       "      <td>...</td>\n",
       "      <td>...</td>\n",
       "    </tr>\n",
       "    <tr>\n",
       "      <th>338</th>\n",
       "      <td>Brazil</td>\n",
       "      <td>1923</td>\n",
       "      <td>31.983761</td>\n",
       "    </tr>\n",
       "    <tr>\n",
       "      <th>2176</th>\n",
       "      <td>Russia</td>\n",
       "      <td>1808</td>\n",
       "      <td>29.573458</td>\n",
       "    </tr>\n",
       "    <tr>\n",
       "      <th>479</th>\n",
       "      <td>Canada</td>\n",
       "      <td>1847</td>\n",
       "      <td>40.762688</td>\n",
       "    </tr>\n",
       "    <tr>\n",
       "      <th>132</th>\n",
       "      <td>Australia</td>\n",
       "      <td>1934</td>\n",
       "      <td>64.879997</td>\n",
       "    </tr>\n",
       "    <tr>\n",
       "      <th>648</th>\n",
       "      <td>Canada</td>\n",
       "      <td>2016</td>\n",
       "      <td>81.849998</td>\n",
       "    </tr>\n",
       "  </tbody>\n",
       "</table>\n",
       "<p>1626 rows × 3 columns</p>\n",
       "</div>"
      ],
      "text/plain": [
       "        Country  Year  Life expectancy\n",
       "1216    Germany  1933        60.683998\n",
       "2175     Russia  1807        29.573458\n",
       "754       China  1905        32.000000\n",
       "1986     Mexico  1835        26.900000\n",
       "455      Canada  1823        39.034428\n",
       "...         ...   ...              ...\n",
       "338      Brazil  1923        31.983761\n",
       "2176     Russia  1808        29.573458\n",
       "479      Canada  1847        40.762688\n",
       "132   Australia  1934        64.879997\n",
       "648      Canada  2016        81.849998\n",
       "\n",
       "[1626 rows x 3 columns]"
      ]
     },
     "execution_count": 9,
     "metadata": {},
     "output_type": "execute_result"
    }
   ],
   "source": [
    "life.sample(frac=0.50) #will produce random samples"
   ]
  },
  {
   "cell_type": "markdown",
   "id": "4069d737",
   "metadata": {},
   "source": [
    "# 8. Check for 'Null' values in the dataset"
   ]
  },
  {
   "cell_type": "code",
   "execution_count": 10,
   "id": "2dfe0bb3",
   "metadata": {},
   "outputs": [
    {
     "data": {
      "text/plain": [
       "Country            0\n",
       "Year               0\n",
       "Life expectancy    0\n",
       "dtype: int64"
      ]
     },
     "execution_count": 10,
     "metadata": {},
     "output_type": "execute_result"
    }
   ],
   "source": [
    "life.isnull().sum()\n",
    "#No 'Null' values in the dataset"
   ]
  },
  {
   "cell_type": "code",
   "execution_count": 11,
   "id": "89402cb4",
   "metadata": {},
   "outputs": [
    {
     "data": {
      "text/plain": [
       "<AxesSubplot:>"
      ]
     },
     "execution_count": 11,
     "metadata": {},
     "output_type": "execute_result"
    },
    {
     "data": {
      "image/png": "[encoded data removed]",
      "text/plain": [
       "<Figure size 432x288 with 2 Axes>"
      ]
     },
     "metadata": {
      "needs_background": "light"
     },
     "output_type": "display_data"
    }
   ],
   "source": [
    "sns.heatmap(life.isnull())"
   ]
  },
  {
   "cell_type": "markdown",
   "id": "2a5da241",
   "metadata": {},
   "source": [
    "# 9. Check for unique info in 'Country' column"
   ]
  },
  {
   "cell_type": "code",
   "execution_count": 12,
   "id": "5332204e",
   "metadata": {},
   "outputs": [
    {
     "data": {
      "text/plain": [
       "array(['Australia', 'Brazil', 'Canada', 'China', 'France', 'Germany',\n",
       "       'India', 'Italy', 'Japan', 'Mexico', 'Russia', 'Spain',\n",
       "       'Switzerland', 'United Kingdom', 'United States'], dtype=object)"
      ]
     },
     "execution_count": 12,
     "metadata": {},
     "output_type": "execute_result"
    }
   ],
   "source": [
    "life['Country'].unique()"
   ]
  },
  {
   "cell_type": "markdown",
   "id": "a234a005",
   "metadata": {},
   "source": [
    "# 10. Change 'Life Expectancy' column datatype from 'float' to 'integer'"
   ]
  },
  {
   "cell_type": "code",
   "execution_count": 13,
   "id": "d84101fe",
   "metadata": {},
   "outputs": [
    {
     "data": {
      "text/plain": [
       "Index(['Country', 'Year', 'Life expectancy'], dtype='object')"
      ]
     },
     "execution_count": 13,
     "metadata": {},
     "output_type": "execute_result"
    }
   ],
   "source": [
    "life.columns"
   ]
  },
  {
   "cell_type": "code",
   "execution_count": 14,
   "id": "ac7e777c",
   "metadata": {},
   "outputs": [
    {
     "data": {
      "text/plain": [
       "Country             object\n",
       "Year                 int64\n",
       "Life expectancy    float64\n",
       "dtype: object"
      ]
     },
     "execution_count": 14,
     "metadata": {},
     "output_type": "execute_result"
    }
   ],
   "source": [
    "life.dtypes"
   ]
  },
  {
   "cell_type": "code",
   "execution_count": 15,
   "id": "2a12f55c",
   "metadata": {},
   "outputs": [],
   "source": [
    "life['Life expectancy'] = life['Life expectancy'].astype('int')"
   ]
  },
  {
   "cell_type": "code",
   "execution_count": 16,
   "id": "627ac249",
   "metadata": {},
   "outputs": [
    {
     "data": {
      "text/plain": [
       "Country            object\n",
       "Year                int64\n",
       "Life expectancy     int64\n",
       "dtype: object"
      ]
     },
     "execution_count": 16,
     "metadata": {},
     "output_type": "execute_result"
    }
   ],
   "source": [
    "life.dtypes"
   ]
  },
  {
   "cell_type": "code",
   "execution_count": 17,
   "id": "08a1491e",
   "metadata": {},
   "outputs": [
    {
     "data": {
      "text/html": [
       "<div>\n",
       "<style scoped>\n",
       "    .dataframe tbody tr th:only-of-type {\n",
       "        vertical-align: middle;\n",
       "    }\n",
       "\n",
       "    .dataframe tbody tr th {\n",
       "        vertical-align: top;\n",
       "    }\n",
       "\n",
       "    .dataframe thead th {\n",
       "        text-align: right;\n",
       "    }\n",
       "</style>\n",
       "<table border=\"1\" class=\"dataframe\">\n",
       "  <thead>\n",
       "    <tr style=\"text-align: right;\">\n",
       "      <th></th>\n",
       "      <th>Country</th>\n",
       "      <th>Year</th>\n",
       "      <th>Life expectancy</th>\n",
       "    </tr>\n",
       "  </thead>\n",
       "  <tbody>\n",
       "    <tr>\n",
       "      <th>0</th>\n",
       "      <td>Australia</td>\n",
       "      <td>1802</td>\n",
       "      <td>34</td>\n",
       "    </tr>\n",
       "    <tr>\n",
       "      <th>1</th>\n",
       "      <td>Australia</td>\n",
       "      <td>1803</td>\n",
       "      <td>34</td>\n",
       "    </tr>\n",
       "    <tr>\n",
       "      <th>2</th>\n",
       "      <td>Australia</td>\n",
       "      <td>1804</td>\n",
       "      <td>34</td>\n",
       "    </tr>\n",
       "    <tr>\n",
       "      <th>3</th>\n",
       "      <td>Australia</td>\n",
       "      <td>1805</td>\n",
       "      <td>34</td>\n",
       "    </tr>\n",
       "    <tr>\n",
       "      <th>4</th>\n",
       "      <td>Australia</td>\n",
       "      <td>1806</td>\n",
       "      <td>34</td>\n",
       "    </tr>\n",
       "  </tbody>\n",
       "</table>\n",
       "</div>"
      ],
      "text/plain": [
       "     Country  Year  Life expectancy\n",
       "0  Australia  1802               34\n",
       "1  Australia  1803               34\n",
       "2  Australia  1804               34\n",
       "3  Australia  1805               34\n",
       "4  Australia  1806               34"
      ]
     },
     "execution_count": 17,
     "metadata": {},
     "output_type": "execute_result"
    }
   ],
   "source": [
    "life.head()"
   ]
  },
  {
   "cell_type": "markdown",
   "id": "fea6a020",
   "metadata": {},
   "source": [
    "# UNIVARIATE ANALYSIS"
   ]
  },
  {
   "cell_type": "markdown",
   "id": "9a305ae5",
   "metadata": {},
   "source": [
    "# 11. Find distribution of 'Life expectancy' column"
   ]
  },
  {
   "cell_type": "code",
   "execution_count": 18,
   "id": "130cd0e0",
   "metadata": {},
   "outputs": [
    {
     "data": {
      "text/plain": [
       "count    3253.000000\n",
       "mean       48.198279\n",
       "std        17.953003\n",
       "min         8.000000\n",
       "25%        32.000000\n",
       "50%        41.000000\n",
       "75%        66.000000\n",
       "max        83.000000\n",
       "Name: Life expectancy, dtype: float64"
      ]
     },
     "execution_count": 18,
     "metadata": {},
     "output_type": "execute_result"
    }
   ],
   "source": [
    "life['Life expectancy'].describe()"
   ]
  },
  {
   "cell_type": "code",
   "execution_count": 19,
   "id": "bf475bf8",
   "metadata": {},
   "outputs": [
    {
     "data": {
      "text/plain": [
       "<AxesSubplot:>"
      ]
     },
     "execution_count": 19,
     "metadata": {},
     "output_type": "execute_result"
    },
    {
     "data": {
      "image/png": "[encoded data removed]",
      "text/plain": [
       "<Figure size 432x288 with 1 Axes>"
      ]
     },
     "metadata": {
      "needs_background": "light"
     },
     "output_type": "display_data"
    }
   ],
   "source": [
    "life['Life expectancy'].hist()"
   ]
  },
  {
   "cell_type": "markdown",
   "id": "6c3e8729",
   "metadata": {},
   "source": [
    "# 12. Display Countries with Highest Average Life Expectancy for All Years"
   ]
  },
  {
   "cell_type": "code",
   "execution_count": 20,
   "id": "87ba92f5",
   "metadata": {},
   "outputs": [
    {
     "data": {
      "text/plain": [
       "Index(['Country', 'Year', 'Life expectancy'], dtype='object')"
      ]
     },
     "execution_count": 20,
     "metadata": {},
     "output_type": "execute_result"
    }
   ],
   "source": [
    "life.columns"
   ]
  },
  {
   "cell_type": "code",
   "execution_count": 21,
   "id": "fd0bb713",
   "metadata": {},
   "outputs": [
    {
     "data": {
      "text/plain": [
       "Country\n",
       "Canada            55.336406\n",
       "United Kingdom    55.078341\n",
       "Switzerland       54.921659\n",
       "United States     54.184332\n",
       "Australia         53.916279\n",
       "France            53.216590\n",
       "Germany           52.442396\n",
       "Japan             49.866359\n",
       "Italy             48.654378\n",
       "Spain             47.073733\n",
       "Brazil            41.608295\n",
       "Russia            41.497696\n",
       "China             41.207373\n",
       "Mexico            40.179724\n",
       "India             33.843318\n",
       "Name: Life expectancy, dtype: float64"
      ]
     },
     "execution_count": 21,
     "metadata": {},
     "output_type": "execute_result"
    }
   ],
   "source": [
    "life.groupby('Country')['Life expectancy'].mean().sort_values(ascending=False)"
   ]
  },
  {
   "cell_type": "markdown",
   "id": "ea8a2be1",
   "metadata": {},
   "source": [
    "# 13.Display all countries with life expectencies above 83"
   ]
  },
  {
   "cell_type": "code",
   "execution_count": 22,
   "id": "ce4e9582",
   "metadata": {},
   "outputs": [
    {
     "data": {
      "text/html": [
       "<div>\n",
       "<style scoped>\n",
       "    .dataframe tbody tr th:only-of-type {\n",
       "        vertical-align: middle;\n",
       "    }\n",
       "\n",
       "    .dataframe tbody tr th {\n",
       "        vertical-align: top;\n",
       "    }\n",
       "\n",
       "    .dataframe thead th {\n",
       "        text-align: right;\n",
       "    }\n",
       "</style>\n",
       "<table border=\"1\" class=\"dataframe\">\n",
       "  <thead>\n",
       "    <tr style=\"text-align: right;\">\n",
       "      <th></th>\n",
       "      <th>Country</th>\n",
       "      <th>Year</th>\n",
       "      <th>Life expectancy</th>\n",
       "    </tr>\n",
       "  </thead>\n",
       "  <tbody>\n",
       "    <tr>\n",
       "      <th>1946</th>\n",
       "      <td>Japan</td>\n",
       "      <td>2012</td>\n",
       "      <td>83</td>\n",
       "    </tr>\n",
       "    <tr>\n",
       "      <th>1947</th>\n",
       "      <td>Japan</td>\n",
       "      <td>2013</td>\n",
       "      <td>83</td>\n",
       "    </tr>\n",
       "    <tr>\n",
       "      <th>1948</th>\n",
       "      <td>Japan</td>\n",
       "      <td>2014</td>\n",
       "      <td>83</td>\n",
       "    </tr>\n",
       "    <tr>\n",
       "      <th>1949</th>\n",
       "      <td>Japan</td>\n",
       "      <td>2015</td>\n",
       "      <td>83</td>\n",
       "    </tr>\n",
       "    <tr>\n",
       "      <th>1950</th>\n",
       "      <td>Japan</td>\n",
       "      <td>2016</td>\n",
       "      <td>83</td>\n",
       "    </tr>\n",
       "    <tr>\n",
       "      <th>2816</th>\n",
       "      <td>Switzerland</td>\n",
       "      <td>2014</td>\n",
       "      <td>83</td>\n",
       "    </tr>\n",
       "    <tr>\n",
       "      <th>2817</th>\n",
       "      <td>Switzerland</td>\n",
       "      <td>2015</td>\n",
       "      <td>83</td>\n",
       "    </tr>\n",
       "    <tr>\n",
       "      <th>2818</th>\n",
       "      <td>Switzerland</td>\n",
       "      <td>2016</td>\n",
       "      <td>83</td>\n",
       "    </tr>\n",
       "  </tbody>\n",
       "</table>\n",
       "</div>"
      ],
      "text/plain": [
       "          Country  Year  Life expectancy\n",
       "1946        Japan  2012               83\n",
       "1947        Japan  2013               83\n",
       "1948        Japan  2014               83\n",
       "1949        Japan  2015               83\n",
       "1950        Japan  2016               83\n",
       "2816  Switzerland  2014               83\n",
       "2817  Switzerland  2015               83\n",
       "2818  Switzerland  2016               83"
      ]
     },
     "execution_count": 22,
     "metadata": {},
     "output_type": "execute_result"
    }
   ],
   "source": [
    "life[life['Life expectancy'] > 82]"
   ]
  },
  {
   "cell_type": "markdown",
   "id": "b0ea6acd",
   "metadata": {},
   "source": [
    "# 14. Display Life Expectancy for All Countries 'between' 1900-2000 inclusive"
   ]
  },
  {
   "cell_type": "code",
   "execution_count": 29,
   "id": "53ba6cfb",
   "metadata": {},
   "outputs": [
    {
     "data": {
      "text/html": [
       "<div>\n",
       "<style scoped>\n",
       "    .dataframe tbody tr th:only-of-type {\n",
       "        vertical-align: middle;\n",
       "    }\n",
       "\n",
       "    .dataframe tbody tr th {\n",
       "        vertical-align: top;\n",
       "    }\n",
       "\n",
       "    .dataframe thead th {\n",
       "        text-align: right;\n",
       "    }\n",
       "</style>\n",
       "<table border=\"1\" class=\"dataframe\">\n",
       "  <thead>\n",
       "    <tr style=\"text-align: right;\">\n",
       "      <th></th>\n",
       "      <th>Country</th>\n",
       "      <th>Year</th>\n",
       "      <th>Life expectancy</th>\n",
       "    </tr>\n",
       "  </thead>\n",
       "  <tbody>\n",
       "    <tr>\n",
       "      <th>98</th>\n",
       "      <td>Australia</td>\n",
       "      <td>1900</td>\n",
       "      <td>49</td>\n",
       "    </tr>\n",
       "    <tr>\n",
       "      <th>99</th>\n",
       "      <td>Australia</td>\n",
       "      <td>1901</td>\n",
       "      <td>50</td>\n",
       "    </tr>\n",
       "    <tr>\n",
       "      <th>100</th>\n",
       "      <td>Australia</td>\n",
       "      <td>1902</td>\n",
       "      <td>50</td>\n",
       "    </tr>\n",
       "    <tr>\n",
       "      <th>101</th>\n",
       "      <td>Australia</td>\n",
       "      <td>1903</td>\n",
       "      <td>51</td>\n",
       "    </tr>\n",
       "    <tr>\n",
       "      <th>102</th>\n",
       "      <td>Australia</td>\n",
       "      <td>1904</td>\n",
       "      <td>52</td>\n",
       "    </tr>\n",
       "    <tr>\n",
       "      <th>...</th>\n",
       "      <td>...</td>\n",
       "      <td>...</td>\n",
       "      <td>...</td>\n",
       "    </tr>\n",
       "    <tr>\n",
       "      <th>3232</th>\n",
       "      <td>United States</td>\n",
       "      <td>1996</td>\n",
       "      <td>76</td>\n",
       "    </tr>\n",
       "    <tr>\n",
       "      <th>3233</th>\n",
       "      <td>United States</td>\n",
       "      <td>1997</td>\n",
       "      <td>76</td>\n",
       "    </tr>\n",
       "    <tr>\n",
       "      <th>3234</th>\n",
       "      <td>United States</td>\n",
       "      <td>1998</td>\n",
       "      <td>76</td>\n",
       "    </tr>\n",
       "    <tr>\n",
       "      <th>3235</th>\n",
       "      <td>United States</td>\n",
       "      <td>1999</td>\n",
       "      <td>76</td>\n",
       "    </tr>\n",
       "    <tr>\n",
       "      <th>3236</th>\n",
       "      <td>United States</td>\n",
       "      <td>2000</td>\n",
       "      <td>76</td>\n",
       "    </tr>\n",
       "  </tbody>\n",
       "</table>\n",
       "<p>1515 rows × 3 columns</p>\n",
       "</div>"
      ],
      "text/plain": [
       "            Country  Year  Life expectancy\n",
       "98        Australia  1900               49\n",
       "99        Australia  1901               50\n",
       "100       Australia  1902               50\n",
       "101       Australia  1903               51\n",
       "102       Australia  1904               52\n",
       "...             ...   ...              ...\n",
       "3232  United States  1996               76\n",
       "3233  United States  1997               76\n",
       "3234  United States  1998               76\n",
       "3235  United States  1999               76\n",
       "3236  United States  2000               76\n",
       "\n",
       "[1515 rows x 3 columns]"
      ]
     },
     "execution_count": 29,
     "metadata": {},
     "output_type": "execute_result"
    }
   ],
   "source": [
    "life[life['Year'].between(1900,2000, inclusive=True)]"
   ]
  },
  {
   "cell_type": "markdown",
   "id": "c8cfea16",
   "metadata": {},
   "source": [
    "# 15. Visualize Life Expectancy for All Countries for All Years"
   ]
  },
  {
   "cell_type": "code",
   "execution_count": 24,
   "id": "297c9147",
   "metadata": {},
   "outputs": [
    {
     "data": {
      "image/png": "[encoded data removed]",
      "text/plain": [
       "<Figure size 720x360 with 1 Axes>"
      ]
     },
     "metadata": {
      "needs_background": "light"
     },
     "output_type": "display_data"
    }
   ],
   "source": [
    "plt.figure(figsize=(10,5))\n",
    "sns.barplot(x='Country', y='Life expectancy', data=life)\n",
    "plt.xlabel('Countries', fontsize=12)\n",
    "plt.ylabel('Life Expectancy', fontsize=12)\n",
    "plt.xticks(rotation=70)\n",
    "plt.show()"
   ]
  },
  {
   "cell_type": "markdown",
   "id": "810d0346",
   "metadata": {},
   "source": [
    "# 16. Filter Data for Canada"
   ]
  },
  {
   "cell_type": "code",
   "execution_count": 25,
   "id": "652fa18a",
   "metadata": {},
   "outputs": [
    {
     "data": {
      "text/html": [
       "<div>\n",
       "<style scoped>\n",
       "    .dataframe tbody tr th:only-of-type {\n",
       "        vertical-align: middle;\n",
       "    }\n",
       "\n",
       "    .dataframe tbody tr th {\n",
       "        vertical-align: top;\n",
       "    }\n",
       "\n",
       "    .dataframe thead th {\n",
       "        text-align: right;\n",
       "    }\n",
       "</style>\n",
       "<table border=\"1\" class=\"dataframe\">\n",
       "  <thead>\n",
       "    <tr style=\"text-align: right;\">\n",
       "      <th></th>\n",
       "      <th>Country</th>\n",
       "      <th>Year</th>\n",
       "      <th>Life expectancy</th>\n",
       "    </tr>\n",
       "  </thead>\n",
       "  <tbody>\n",
       "    <tr>\n",
       "      <th>432</th>\n",
       "      <td>Canada</td>\n",
       "      <td>1800</td>\n",
       "      <td>39</td>\n",
       "    </tr>\n",
       "    <tr>\n",
       "      <th>433</th>\n",
       "      <td>Canada</td>\n",
       "      <td>1801</td>\n",
       "      <td>39</td>\n",
       "    </tr>\n",
       "    <tr>\n",
       "      <th>434</th>\n",
       "      <td>Canada</td>\n",
       "      <td>1802</td>\n",
       "      <td>39</td>\n",
       "    </tr>\n",
       "    <tr>\n",
       "      <th>435</th>\n",
       "      <td>Canada</td>\n",
       "      <td>1803</td>\n",
       "      <td>39</td>\n",
       "    </tr>\n",
       "    <tr>\n",
       "      <th>436</th>\n",
       "      <td>Canada</td>\n",
       "      <td>1804</td>\n",
       "      <td>39</td>\n",
       "    </tr>\n",
       "  </tbody>\n",
       "</table>\n",
       "</div>"
      ],
      "text/plain": [
       "    Country  Year  Life expectancy\n",
       "432  Canada  1800               39\n",
       "433  Canada  1801               39\n",
       "434  Canada  1802               39\n",
       "435  Canada  1803               39\n",
       "436  Canada  1804               39"
      ]
     },
     "execution_count": 25,
     "metadata": {},
     "output_type": "execute_result"
    }
   ],
   "source": [
    "Display rows and columns for Canada\n",
    "filt = life[life['Country'] == 'Canada' ]  \n",
    "filt.head()"
   ]
  },
  {
   "cell_type": "markdown",
   "id": "76369afa",
   "metadata": {},
   "source": [
    "# 17. Check for duplicate info in the dataset"
   ]
  },
  {
   "cell_type": "code",
   "execution_count": 65,
   "id": "d54c1290",
   "metadata": {},
   "outputs": [],
   "source": [
    "dup_data= life.duplicated().any()"
   ]
  },
  {
   "cell_type": "code",
   "execution_count": 66,
   "id": "3beb17cb",
   "metadata": {},
   "outputs": [
    {
     "name": "stdout",
     "output_type": "stream",
     "text": [
      "Are there duplicateed values in the dataset? False\n"
     ]
    }
   ],
   "source": [
    "print('Are there duplicateed values in the dataset?', dup_data)"
   ]
  },
  {
   "cell_type": "markdown",
   "id": "a51ce196",
   "metadata": {},
   "source": [
    "# 18.Export Data on Canada to 'CSV' file"
   ]
  },
  {
   "cell_type": "code",
   "execution_count": null,
   "id": "21e07fd9",
   "metadata": {},
   "outputs": [],
   "source": [
    "filt = (life['Country'] == 'Canada')\n",
    "canada_life = life.loc[filt]\n",
    "canada_life.head()"
   ]
  },
  {
   "cell_type": "code",
   "execution_count": null,
   "id": "e1d59e4a",
   "metadata": {},
   "outputs": [],
   "source": [
    "#Export data on Canada to 'CSV' file\n",
    "canada_life.to_csv('/home/buranidze/Documents/Dataanalysis_myprojects/1_life_expectency_analysis/infoabout_canada.csv')"
   ]
  },
  {
   "cell_type": "code",
   "execution_count": null,
   "id": "a3d63e6c",
   "metadata": {},
   "outputs": [],
   "source": []
  }
 ],
 "metadata": {
  "kernelspec": {
   "display_name": "Python 3",
   "language": "python",
   "name": "python3"
  },
  "language_info": {
   "codemirror_mode": {
    "name": "ipython",
    "version": 3
   },
   "file_extension": ".py",
   "mimetype": "text/x-python",
   "name": "python",
   "nbconvert_exporter": "python",
   "pygments_lexer": "ipython3",
   "version": "3.8.5"
  }
 },
 "nbformat": 4,
 "nbformat_minor": 5
}
